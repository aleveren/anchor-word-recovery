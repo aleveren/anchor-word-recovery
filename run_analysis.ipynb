{
 "cells": [
  {
   "cell_type": "code",
   "execution_count": 1,
   "metadata": {
    "collapsed": true
   },
   "outputs": [],
   "source": [
    "import numpy as np\n",
    "import matplotlib.pyplot as plt\n",
    "%matplotlib inline"
   ]
  },
  {
   "cell_type": "code",
   "execution_count": 2,
   "metadata": {
    "collapsed": true
   },
   "outputs": [],
   "source": [
    "from learn_topics import Analysis, Params"
   ]
  },
  {
   "cell_type": "code",
   "execution_count": 3,
   "metadata": {
    "collapsed": false
   },
   "outputs": [
    {
     "name": "stdout",
     "output_type": "stream",
     "text": [
      "identifying candidate anchors\n",
      "1735 candidates\n",
      "Sum of entries in Q is  1.0\n",
      "Multiplying Q took  1.7018659114837646 seconds\n",
      "Q sum is 1.0\n",
      "done reading documents\n",
      "anchors are:\n",
      "0 neuroscience\n",
      "1 part\n",
      "2 iii\n",
      "3 cognitive\n",
      "4 paul\n",
      "5 science\n",
      "6 architecture\n",
      "7 theory\n",
      "8 visual\n",
      "9 processing\n",
      "10 policy\n",
      "11 head\n",
      "12 speaker\n",
      "13 spike\n",
      "14 character\n",
      "15 motion\n",
      "16 speech\n",
      "17 face\n",
      "18 chip\n",
      "19 classifier\n",
      "20 control\n",
      "21 boolean\n",
      "22 teacher\n",
      "23 missing\n",
      "24 sound\n",
      "25 controller\n",
      "26 view\n",
      "27 kernel\n",
      "28 word\n",
      "29 orientation\n",
      "30 expert\n",
      "31 batch\n",
      "32 motor\n",
      "33 clustering\n",
      "34 winner\n",
      "35 hopfield\n",
      "36 channel\n",
      "37 convex\n",
      "38 member\n",
      "39 rules\n",
      "40 letter\n",
      "41 user\n",
      "42 carlo\n",
      "43 penalty\n",
      "44 robot\n",
      "45 contour\n",
      "46 operator\n",
      "47 synapses\n",
      "48 loss\n",
      "49 rbf\n",
      "begin threaded recovery with 8 processors\n",
      "0\t75\t0.233058235073\n",
      "1000\t78\t0.108072644659\n",
      "2000\t72\t0.182623824193\n",
      "done recovering\n",
      "neuroscience : neuroscience application implementation navigation planning algorithm hierarchy matching circuit zemel \n",
      "part : part algorithm signal application problem implementation memory parallel information processor \n",
      "iii : iii field distribution probability bound approximation examples equation statistical order \n",
      "cognitive : cognitive connectionist action representation level structure category constraint grammar language \n",
      "paul : david michael john richard peter index author thomas paul eric \n",
      "science : science representation level structure category subject constraint goal set environment \n",
      "architecture : architecture algorithm unit problem step weight pattern gradient node vector \n",
      "theory : theory approximation case evidence ill peak region effect probability term \n",
      "visual : visual signal image level object spatial feature features activity images \n",
      "processing : processing signal object information eye position target attention feature layer \n",
      "policy : action policy algorithm function optimal reinforcement problem step states reward \n",
      "head : head direction system eye velocity input gain position rotation rate \n",
      "speaker : network speaker recognition training neural performance system feature vector acoustic \n",
      "spike : neuron spike firing rate information spikes train noise stimulus potential \n",
      "character : network character input neural output training recognition layer system field \n",
      "motion : motion direction unit velocity field order moving stage filter response \n",
      "speech : speech signal input network output neural layer system information recognition \n",
      "face : image face images set recognition faces representation pattern task training \n",
      "chip : chip analog neural output circuit weight network system vlsi current \n",
      "classifier : classifier training set classification pattern class error data problem performance \n",
      "control : control planning navigation optimal dynamic trajectory point system process programming \n",
      "boolean : function network weight input threshold number unit neural result set \n",
      "teacher : network error unit training weight input output hidden generalization set \n",
      "missing : data network input neural set training output gaussian distribution problem \n",
      "sound : sound system auditory signal frequency temporal phase localization filter source \n",
      "controller : system controller neural network function forward dynamic feedback error output \n",
      "view : object view recognition unit representation image layer features feature images \n",
      "kernel : kernel data function method vector set space algorithm linear gaussian \n",
      "word : word recognition context training level hmm set system phoneme vector \n",
      "orientation : orientation cortex field pattern map cortical response center spatial stimulus \n",
      "expert : network expert algorithm data output parameter neural system task mixture \n",
      "batch : algorithm error rate convergence batch gradient weight set equation training \n",
      "motor : motor movement system input neuron dynamic output network position field \n",
      "clustering : data algorithm cluster clustering point parameter set space vector number \n",
      "winner : input circuit output current neuron winner unit voltage analog system \n",
      "hopfield : network neural neuron system problem dynamic point pattern equation function \n",
      "channel : channel noise information signal current frequency call component system rate \n",
      "convex : function point vector algorithm solution set problem convex space linear \n",
      "member : set error method training input feature information features performance test \n",
      "rules : network unit rules rule input neural weight set system output \n",
      "letter : unit network hidden letter layer output input weight pattern algorithm \n",
      "user : system neural user data network set training performance vector number \n",
      "carlo : distribution method parameter gaussian algorithm probability data approximation bayesian prior \n",
      "penalty : weight error training set data term function problem method neural \n",
      "robot : robot task action space reinforcement environment map goal problem position \n",
      "contour : image point images direction field contour local map distribution region \n",
      "operator : function system operator vector neural space matrix problem linear equation \n",
      "synapses : neuron input synaptic pattern synapses function activity layer neural connection \n",
      "loss : function loss algorithm bound parameter vector linear distribution gradient case \n",
      "rbf : network training function rbf neural error output input unit weight \n",
      "CPU times: user 10.7 s, sys: 5.64 s, total: 16.3 s\n",
      "Wall time: 23.6 s\n"
     ]
    }
   ],
   "source": [
    "%%time\n",
    "\n",
    "loss = \"L2\"\n",
    "K = 50\n",
    "\n",
    "analysis = Analysis(params = Params(\n",
    "    infile = \"M_nips.full_docs.mat.trunc.mat\",\n",
    "    vocab_file = \"vocab.nips.txt.trunc\",\n",
    "    outfile = \"demo_{}_out.nips.{}\".format(loss, K),\n",
    "    loss = loss,\n",
    "    K = K,\n",
    "    log_prefix = \"log\",\n",
    "    checkpoint_prefix = \"checkpoint\",\n",
    "    seed = 100,\n",
    "    eps = 1e-6,\n",
    "    new_dim = 1000,\n",
    "    max_threads = 8,\n",
    "    anchor_thresh = 100,\n",
    "    top_words = 10,\n",
    "))\n",
    "analysis.run()"
   ]
  },
  {
   "cell_type": "code",
   "execution_count": 4,
   "metadata": {
    "collapsed": false,
    "scrolled": true
   },
   "outputs": [
    {
     "name": "stdout",
     "output_type": "stream",
     "text": [
      "Topic 0: Anchor word 'neuroscience'\n",
      "  neuroscience, application, implementation, navigation, planning, algorithm, hierarchy, matching, circuit, zemel\n",
      "Topic 1: Anchor word 'part'\n",
      "  part, algorithm, signal, application, problem, implementation, memory, parallel, information, processor\n",
      "Topic 2: Anchor word 'iii'\n",
      "  iii, field, distribution, probability, bound, approximation, examples, equation, statistical, order\n",
      "Topic 3: Anchor word 'cognitive'\n",
      "  cognitive, connectionist, action, representation, level, structure, category, constraint, grammar, language\n",
      "Topic 4: Anchor word 'paul'\n",
      "  david, michael, john, richard, peter, index, author, thomas, paul, eric\n",
      "Topic 5: Anchor word 'science'\n",
      "  science, representation, level, structure, category, subject, constraint, goal, set, environment\n",
      "Topic 6: Anchor word 'architecture'\n",
      "  architecture, algorithm, unit, problem, step, weight, pattern, gradient, node, vector\n",
      "Topic 7: Anchor word 'theory'\n",
      "  theory, approximation, case, evidence, ill, peak, region, effect, probability, term\n",
      "Topic 8: Anchor word 'visual'\n",
      "  visual, signal, image, level, object, spatial, feature, features, activity, images\n",
      "Topic 9: Anchor word 'processing'\n",
      "  processing, signal, object, information, eye, position, target, attention, feature, layer\n",
      "Topic 10: Anchor word 'policy'\n",
      "  action, policy, algorithm, function, optimal, reinforcement, problem, step, states, reward\n",
      "Topic 11: Anchor word 'head'\n",
      "  head, direction, system, eye, velocity, input, gain, position, rotation, rate\n",
      "Topic 12: Anchor word 'speaker'\n",
      "  network, speaker, recognition, training, neural, performance, system, feature, vector, acoustic\n",
      "Topic 13: Anchor word 'spike'\n",
      "  neuron, spike, firing, rate, information, spikes, train, noise, stimulus, potential\n",
      "Topic 14: Anchor word 'character'\n",
      "  network, character, input, neural, output, training, recognition, layer, system, field\n",
      "Topic 15: Anchor word 'motion'\n",
      "  motion, direction, unit, velocity, field, order, moving, stage, filter, response\n",
      "Topic 16: Anchor word 'speech'\n",
      "  speech, signal, input, network, output, neural, layer, system, information, recognition\n",
      "Topic 17: Anchor word 'face'\n",
      "  image, face, images, set, recognition, faces, representation, pattern, task, training\n",
      "Topic 18: Anchor word 'chip'\n",
      "  chip, analog, neural, output, circuit, weight, network, system, vlsi, current\n",
      "Topic 19: Anchor word 'classifier'\n",
      "  classifier, training, set, classification, pattern, class, error, data, problem, performance\n",
      "Topic 20: Anchor word 'control'\n",
      "  control, planning, navigation, optimal, dynamic, trajectory, point, system, process, programming\n",
      "Topic 21: Anchor word 'boolean'\n",
      "  function, network, weight, input, threshold, number, unit, neural, result, set\n",
      "Topic 22: Anchor word 'teacher'\n",
      "  network, error, unit, training, weight, input, output, hidden, generalization, set\n",
      "Topic 23: Anchor word 'missing'\n",
      "  data, network, input, neural, set, training, output, gaussian, distribution, problem\n",
      "Topic 24: Anchor word 'sound'\n",
      "  sound, system, auditory, signal, frequency, temporal, phase, localization, filter, source\n",
      "Topic 25: Anchor word 'controller'\n",
      "  system, controller, neural, network, function, forward, dynamic, feedback, error, output\n",
      "Topic 26: Anchor word 'view'\n",
      "  object, view, recognition, unit, representation, image, layer, features, feature, images\n",
      "Topic 27: Anchor word 'kernel'\n",
      "  kernel, data, function, method, vector, set, space, algorithm, linear, gaussian\n",
      "Topic 28: Anchor word 'word'\n",
      "  word, recognition, context, training, level, hmm, set, system, phoneme, vector\n",
      "Topic 29: Anchor word 'orientation'\n",
      "  orientation, cortex, field, pattern, map, cortical, response, center, spatial, stimulus\n",
      "Topic 30: Anchor word 'expert'\n",
      "  network, expert, algorithm, data, output, parameter, neural, system, task, mixture\n",
      "Topic 31: Anchor word 'batch'\n",
      "  algorithm, error, rate, convergence, batch, gradient, weight, set, equation, training\n",
      "Topic 32: Anchor word 'motor'\n",
      "  motor, movement, system, input, neuron, dynamic, output, network, position, field\n",
      "Topic 33: Anchor word 'clustering'\n",
      "  data, algorithm, cluster, clustering, point, parameter, set, space, vector, number\n",
      "Topic 34: Anchor word 'winner'\n",
      "  input, circuit, output, current, neuron, winner, unit, voltage, analog, system\n",
      "Topic 35: Anchor word 'hopfield'\n",
      "  network, neural, neuron, system, problem, dynamic, point, pattern, equation, function\n",
      "Topic 36: Anchor word 'channel'\n",
      "  channel, noise, information, signal, current, frequency, call, component, system, rate\n",
      "Topic 37: Anchor word 'convex'\n",
      "  function, point, vector, algorithm, solution, set, problem, convex, space, linear\n",
      "Topic 38: Anchor word 'member'\n",
      "  set, error, method, training, input, feature, information, features, performance, test\n",
      "Topic 39: Anchor word 'rules'\n",
      "  network, unit, rules, rule, input, neural, weight, set, system, output\n",
      "Topic 40: Anchor word 'letter'\n",
      "  unit, network, hidden, letter, layer, output, input, weight, pattern, algorithm\n",
      "Topic 41: Anchor word 'user'\n",
      "  system, neural, user, data, network, set, training, performance, vector, number\n",
      "Topic 42: Anchor word 'carlo'\n",
      "  distribution, method, parameter, gaussian, algorithm, probability, data, approximation, bayesian, prior\n",
      "Topic 43: Anchor word 'penalty'\n",
      "  weight, error, training, set, data, term, function, problem, method, neural\n",
      "Topic 44: Anchor word 'robot'\n",
      "  robot, task, action, space, reinforcement, environment, map, goal, problem, position\n",
      "Topic 45: Anchor word 'contour'\n",
      "  image, point, images, direction, field, contour, local, map, distribution, region\n",
      "Topic 46: Anchor word 'operator'\n",
      "  function, system, operator, vector, neural, space, matrix, problem, linear, equation\n",
      "Topic 47: Anchor word 'synapses'\n",
      "  neuron, input, synaptic, pattern, synapses, function, activity, layer, neural, connection\n",
      "Topic 48: Anchor word 'loss'\n",
      "  function, loss, algorithm, bound, parameter, vector, linear, distribution, gradient, case\n",
      "Topic 49: Anchor word 'rbf'\n",
      "  network, training, function, rbf, neural, error, output, input, unit, weight\n"
     ]
    }
   ],
   "source": [
    "for t in analysis.all_topwords:\n",
    "    print(\"Topic {}: Anchor word '{}'\\n  {}\".format(t.topic_index, t.anchor_word, \", \".join(t.top_words)))"
   ]
  },
  {
   "cell_type": "code",
   "execution_count": 5,
   "metadata": {
    "collapsed": true
   },
   "outputs": [],
   "source": [
    "import scipy.cluster.hierarchy as sch"
   ]
  },
  {
   "cell_type": "code",
   "execution_count": 6,
   "metadata": {
    "collapsed": true
   },
   "outputs": [],
   "source": [
    "metric_L1 = lambda x,y: np.sum(np.abs(x - y))"
   ]
  },
  {
   "cell_type": "code",
   "execution_count": 7,
   "metadata": {
    "collapsed": false
   },
   "outputs": [],
   "source": [
    "linkage = sch.linkage(analysis.A.transpose(), method=\"complete\", metric=metric_L1)"
   ]
  },
  {
   "cell_type": "code",
   "execution_count": 8,
   "metadata": {
    "collapsed": false
   },
   "outputs": [],
   "source": [
    "anchor_word_labels = [\"{} ({})\".format(analysis.vocab[w], w) for w in analysis.anchors]"
   ]
  },
  {
   "cell_type": "code",
   "execution_count": 9,
   "metadata": {
    "collapsed": false
   },
   "outputs": [
    {
     "data": {
      "image/png": "[encoded data removed]",
      "text/plain": [
       "<matplotlib.figure.Figure at 0x10d5eb390>"
      ]
     },
     "metadata": {},
     "output_type": "display_data"
    }
   ],
   "source": [
    "fig, ax = plt.subplots(figsize=(10,10))\n",
    "sch.dendrogram(linkage, orientation='left', labels=anchor_word_labels, ax=ax);"
   ]
  },
  {
   "cell_type": "code",
   "execution_count": null,
   "metadata": {
    "collapsed": true
   },
   "outputs": [],
   "source": []
  }
 ],
 "metadata": {
  "kernelspec": {
   "display_name": "Python 3",
   "language": "python",
   "name": "python3"
  },
  "language_info": {
   "codemirror_mode": {
    "name": "ipython",
    "version": 3
   },
   "file_extension": ".py",
   "mimetype": "text/x-python",
   "name": "python",
   "nbconvert_exporter": "python",
   "pygments_lexer": "ipython3",
   "version": "3.5.0"
  }
 },
 "nbformat": 4,
 "nbformat_minor": 1
}
